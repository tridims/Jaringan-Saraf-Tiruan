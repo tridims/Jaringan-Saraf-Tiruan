{
  "cells": [
    {
      "cell_type": "markdown",
      "metadata": {
        "id": "FKmHk-FbKDWe"
      },
      "source": [
        "# Bab 7 Learning Vector Quantization"
      ]
    },
    {
      "cell_type": "markdown",
      "metadata": {
        "id": "ewAbtN39KDGN"
      },
      "source": [
        "## Praktikum"
      ]
    },
    {
      "cell_type": "markdown",
      "metadata": {
        "id": "B-d5r_PjKGb2"
      },
      "source": [
        "### a) Fungsi *Training* LVQ\n",
        "\n",
        "Tulis kode ke dalam *cell* di bawah ini:"
      ]
    },
    {
      "cell_type": "code",
      "execution_count": 13,
      "metadata": {
        "id": "YPq3_74LJ8lA"
      },
      "outputs": [],
      "source": [
        "import numpy as np\n",
        "\n",
        "def lvq_fit(train, target, lrate, b, max_epoch):\n",
        "  label, train_idx = np.unique(target, return_index=True)\n",
        "  weight = train[train_idx].astype(np.float64)\n",
        "  train = np.array([e for i, e in enumerate(zip(train, target)) if i not in train_idx], dtype=object)\n",
        "  train, target = train[:, 0], train[:, 1]\n",
        "  epoch = 0\n",
        "  \n",
        "  while epoch < max_epoch:\n",
        "    for i, x in enumerate(train):\n",
        "      distance = [sum((w - x) ** 2) for w in weight]\n",
        "      min = np.argmin(distance)\n",
        "      sign = 1 if target[i] == label[min] else -1\n",
        "      weight[min] += sign * lrate * (x - weight[min])\n",
        "    lrate *= b\n",
        "    epoch += 1\n",
        "  return weight, label"
      ]
    },
    {
      "cell_type": "markdown",
      "metadata": {
        "id": "0i3Wu52SKVlI"
      },
      "source": [
        "### b) Fungsi *Testing* LVQ\n",
        "\n",
        "Tulis kode ke dalam *cell* di bawah ini:"
      ]
    },
    {
      "cell_type": "code",
      "execution_count": 2,
      "metadata": {
        "id": "ogz8RQ0JKZkn"
      },
      "outputs": [],
      "source": [
        "def lvq_predict(X, model):\n",
        "  center, label = model\n",
        "  Y = []\n",
        "  for x in X:\n",
        "    d = [sum((c - x) ** 2) for c in center]\n",
        "    Y.append(label[np.argmin(d)])\n",
        "  return Y"
      ]
    },
    {
      "cell_type": "markdown",
      "metadata": {
        "id": "bgf87iLclSRy"
      },
      "source": [
        "### c) Fungsi Hitung Akurasi"
      ]
    },
    {
      "cell_type": "code",
      "execution_count": 3,
      "metadata": {
        "id": "Et-YE6WclSqQ"
      },
      "outputs": [],
      "source": [
        "def calc_accuracy(a, b):\n",
        "  s = [1 if a[i] == b[i] else 0 for i in range(len(a))]\n",
        "  return sum(s) / len(a)"
      ]
    },
    {
      "cell_type": "markdown",
      "metadata": {
        "id": "aazmHIl6KeFu"
      },
      "source": [
        "### d) Percobaan LVQ\n",
        "\n",
        "Tulis kode ke dalam *cell* di bawah ini:"
      ]
    },
    {
      "cell_type": "code",
      "execution_count": 64,
      "metadata": {
        "id": "vcbWhRy7Kqiy"
      },
      "outputs": [
        {
          "name": "stdout",
          "output_type": "stream",
          "text": [
            "Accuracy: 1.0\n"
          ]
        },
        {
          "data": {
            "image/png": "[encoded data removed]",
            "text/plain": [
              "<Figure size 640x480 with 1 Axes>"
            ]
          },
          "metadata": {},
          "output_type": "display_data"
        }
      ],
      "source": [
        "from random import uniform\n",
        "import matplotlib.pyplot as plt\n",
        "from sklearn.model_selection import train_test_split\n",
        "from sklearn.datasets import make_blobs, make_classification\n",
        "\n",
        "X, y = make_classification(n_samples=31, n_features=2, n_redundant=0, n_informative=2, n_classes=3, n_clusters_per_class=1)\n",
        "X_train, X_test, y_train, y_test = train_test_split(X, y, test_size=0.2)\n",
        "model = lvq_fit(X_train, y_train, lrate=.5, b=.8, max_epoch=50)\n",
        "output = lvq_predict(X_test, model)\n",
        "accuracy = calc_accuracy(output, y_test)\n",
        "colors = 'rgbcmyk'\n",
        "print('Accuracy:', accuracy)\n",
        "\n",
        "for x, label in zip(X_train, y_train):\n",
        "  plt.plot(x[0], x[1], colors[label] + '.')\n",
        "for center, label in zip(model[0], model[1]):\n",
        "  plt.plot(center[0], center[1], colors[label] + 'o')\n",
        "for x, label in zip(X_test, output):\n",
        "  plt.plot(x[0], x[1], colors[label] + 'x')"
      ]
    }
  ],
  "metadata": {
    "colab": {
      "collapsed_sections": [],
      "provenance": []
    },
    "kernelspec": {
      "display_name": "Python 3.10.8 64-bit",
      "language": "python",
      "name": "python3"
    },
    "language_info": {
      "codemirror_mode": {
        "name": "ipython",
        "version": 3
      },
      "file_extension": ".py",
      "mimetype": "text/x-python",
      "name": "python",
      "nbconvert_exporter": "python",
      "pygments_lexer": "ipython3",
      "version": "3.10.8"
    },
    "vscode": {
      "interpreter": {
        "hash": "8d5166f33f56ec438629356f5bc5b1e360ee96611e25bcc09105a0dd056e67ef"
      }
    }
  },
  "nbformat": 4,
  "nbformat_minor": 0
}
