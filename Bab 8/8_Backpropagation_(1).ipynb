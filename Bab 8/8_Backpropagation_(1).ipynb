{
  "cells": [
    {
      "cell_type": "markdown",
      "metadata": {
        "id": "jvonXDMsQP1k"
      },
      "source": [
        "# Bab 8 Backpropagation (1)\n",
        "\n",
        "Dimas Tri Mustakim | 205150200111049"
      ]
    },
    {
      "cell_type": "markdown",
      "metadata": {
        "id": "sHySaU_QQPg1"
      },
      "source": [
        "## Praktikum"
      ]
    },
    {
      "cell_type": "markdown",
      "metadata": {
        "id": "VwJi4bWUV7MB"
      },
      "source": [
        "### a) Fungsi *Binary Encoding* dan *Decoding*\n",
        "\n",
        "Tulis kode ke dalam *cell* di bawah ini:"
      ]
    },
    {
      "cell_type": "code",
      "execution_count": 67,
      "metadata": {
        "id": "J8cvPULpV-kS"
      },
      "outputs": [],
      "source": [
        "def bin_enc(lbl):\n",
        "  mi = min(lbl)\n",
        "  length = len(bin(max(lbl) - mi + 1)[2:])\n",
        "  enc = []\n",
        "  for i in lbl:\n",
        "    b = bin(i - mi)[2:].zfill(length)\n",
        "    enc.append([int(n) for n in b])\n",
        "  return enc\n",
        "\n",
        "def bin_dec(enc, mi=0):\n",
        "  lbl = []\n",
        "  for e in enc:\n",
        "    rounded = [int(round(x)) for x in e]\n",
        "    string = ''.join(str(x) for x in rounded)\n",
        "    num = int(string, 2) + mi\n",
        "    lbl.append(num)\n",
        "  return lbl"
      ]
    },
    {
      "cell_type": "markdown",
      "metadata": {
        "id": "Scbwoj7YZHvR"
      },
      "source": [
        "### b) Percobaan *Binary Encoding* dan *Decoding*\n",
        "\n",
        "Tulis kode ke dalam *cell* di bawah ini:"
      ]
    },
    {
      "cell_type": "code",
      "execution_count": 68,
      "metadata": {
        "id": "MVUsMCJqZOaX"
      },
      "outputs": [
        {
          "name": "stdout",
          "output_type": "stream",
          "text": [
            "[[0, 0, 0], [0, 0, 1], [0, 1, 0], [0, 1, 1]]\n",
            "[1, 2, 3, 4]\n"
          ]
        }
      ],
      "source": [
        "labels = 1, 2, 3, 4\n",
        "enc = bin_enc(labels)\n",
        "dec = bin_dec(enc, min(labels))\n",
        "print(enc)\n",
        "print(dec)"
      ]
    },
    {
      "cell_type": "markdown",
      "metadata": {
        "id": "zGdWcpnXYliK"
      },
      "source": [
        "### c) Fungsi *One-hot Encoding* dan *Decoding*\n",
        "\n",
        "Tulis kode ke dalam *cell* di bawah ini:\n"
      ]
    },
    {
      "cell_type": "code",
      "execution_count": 69,
      "metadata": {
        "id": "-dpspq1FYpKV"
      },
      "outputs": [],
      "source": [
        "import numpy as np\n",
        "def onehot_enc(lbl, min_val=0):\n",
        "  mi = min(lbl)\n",
        "  enc = np.full((len(lbl), max(lbl) - mi + 1), min_val, np.int8)\n",
        "  for i, x in enumerate(lbl):\n",
        "    enc[i, x - mi] = 1\n",
        "  return enc\n",
        "\n",
        "def onehot_dec(enc, mi=0):\n",
        "  return [np.argmax(e) + mi for e in enc]"
      ]
    },
    {
      "cell_type": "markdown",
      "metadata": {
        "id": "YYhCRilPY-IX"
      },
      "source": [
        "### d) Percobaan *Binary Encoding* dan *Decoding*\n",
        "\n",
        "Tulis kode ke dalam *cell* di bawah ini:"
      ]
    },
    {
      "cell_type": "code",
      "execution_count": 70,
      "metadata": {
        "id": "XcemATbBaDAV"
      },
      "outputs": [
        {
          "name": "stdout",
          "output_type": "stream",
          "text": [
            "[[1 0 0 0]\n",
            " [0 1 0 0]\n",
            " [0 0 1 0]\n",
            " [0 0 0 1]]\n",
            "[1, 2, 3, 4]\n"
          ]
        }
      ],
      "source": [
        "labels = 1, 2, 3, 4\n",
        "enc = onehot_enc(labels)\n",
        "dec = onehot_dec(enc, min(labels))\n",
        "print(enc)\n",
        "print(dec)"
      ]
    },
    {
      "cell_type": "markdown",
      "metadata": {
        "id": "EdlqM27eQTUj"
      },
      "source": [
        "### e) Fungsi Aktivasi Sigmoid dan Derivatifnya\n",
        "\n",
        "Tulis kode ke dalam *cell* di bawah ini:"
      ]
    },
    {
      "cell_type": "code",
      "execution_count": 71,
      "metadata": {
        "id": "9zxB5G6cP5ml"
      },
      "outputs": [],
      "source": [
        "def sig(X):\n",
        "  return [1 / (1 + np.exp(-x)) for x in X]\n",
        "\n",
        "def sigd(X):\n",
        "  output = []\n",
        "  for i, x in enumerate(X):\n",
        "    s = sig([x])[0]\n",
        "    output.append(s * (1 - s))\n",
        "  return output"
      ]
    },
    {
      "cell_type": "markdown",
      "metadata": {},
      "source": [
        "## Soal-Soal"
      ]
    },
    {
      "cell_type": "markdown",
      "metadata": {},
      "source": [
        "### 1. Import Data Iris"
      ]
    },
    {
      "cell_type": "code",
      "execution_count": 72,
      "metadata": {},
      "outputs": [],
      "source": [
        "import pandas as pd\n",
        "\n",
        "# 1\n",
        "df = pd.read_csv('https://datahub.io/machine-learning/iris/r/iris.csv')"
      ]
    },
    {
      "cell_type": "code",
      "execution_count": 73,
      "metadata": {},
      "outputs": [
        {
          "data": {
            "text/html": [
              "<div>\n",
              "<style scoped>\n",
              "    .dataframe tbody tr th:only-of-type {\n",
              "        vertical-align: middle;\n",
              "    }\n",
              "\n",
              "    .dataframe tbody tr th {\n",
              "        vertical-align: top;\n",
              "    }\n",
              "\n",
              "    .dataframe thead th {\n",
              "        text-align: right;\n",
              "    }\n",
              "</style>\n",
              "<table border=\"1\" class=\"dataframe\">\n",
              "  <thead>\n",
              "    <tr style=\"text-align: right;\">\n",
              "      <th></th>\n",
              "      <th>sepallength</th>\n",
              "      <th>sepalwidth</th>\n",
              "      <th>petallength</th>\n",
              "      <th>petalwidth</th>\n",
              "      <th>class</th>\n",
              "    </tr>\n",
              "  </thead>\n",
              "  <tbody>\n",
              "    <tr>\n",
              "      <th>0</th>\n",
              "      <td>5.1</td>\n",
              "      <td>3.5</td>\n",
              "      <td>1.4</td>\n",
              "      <td>0.2</td>\n",
              "      <td>Iris-setosa</td>\n",
              "    </tr>\n",
              "    <tr>\n",
              "      <th>1</th>\n",
              "      <td>4.9</td>\n",
              "      <td>3.0</td>\n",
              "      <td>1.4</td>\n",
              "      <td>0.2</td>\n",
              "      <td>Iris-setosa</td>\n",
              "    </tr>\n",
              "    <tr>\n",
              "      <th>2</th>\n",
              "      <td>4.7</td>\n",
              "      <td>3.2</td>\n",
              "      <td>1.3</td>\n",
              "      <td>0.2</td>\n",
              "      <td>Iris-setosa</td>\n",
              "    </tr>\n",
              "    <tr>\n",
              "      <th>3</th>\n",
              "      <td>4.6</td>\n",
              "      <td>3.1</td>\n",
              "      <td>1.5</td>\n",
              "      <td>0.2</td>\n",
              "      <td>Iris-setosa</td>\n",
              "    </tr>\n",
              "    <tr>\n",
              "      <th>4</th>\n",
              "      <td>5.0</td>\n",
              "      <td>3.6</td>\n",
              "      <td>1.4</td>\n",
              "      <td>0.2</td>\n",
              "      <td>Iris-setosa</td>\n",
              "    </tr>\n",
              "  </tbody>\n",
              "</table>\n",
              "</div>"
            ],
            "text/plain": [
              "   sepallength  sepalwidth  petallength  petalwidth        class\n",
              "0          5.1         3.5          1.4         0.2  Iris-setosa\n",
              "1          4.9         3.0          1.4         0.2  Iris-setosa\n",
              "2          4.7         3.2          1.3         0.2  Iris-setosa\n",
              "3          4.6         3.1          1.5         0.2  Iris-setosa\n",
              "4          5.0         3.6          1.4         0.2  Iris-setosa"
            ]
          },
          "execution_count": 73,
          "metadata": {},
          "output_type": "execute_result"
        }
      ],
      "source": [
        "df.head()"
      ]
    },
    {
      "cell_type": "markdown",
      "metadata": {},
      "source": [
        "### 2. List of String Kelas"
      ]
    },
    {
      "cell_type": "code",
      "execution_count": 74,
      "metadata": {},
      "outputs": [
        {
          "data": {
            "text/plain": [
              "array(['Iris-setosa', 'Iris-versicolor', 'Iris-virginica'], dtype=object)"
            ]
          },
          "execution_count": 74,
          "metadata": {},
          "output_type": "execute_result"
        }
      ],
      "source": [
        "# 2\n",
        "kelas = df['class'].unique()\n",
        "kelas"
      ]
    },
    {
      "cell_type": "markdown",
      "metadata": {},
      "source": [
        "### 3. Binary Encoder"
      ]
    },
    {
      "cell_type": "code",
      "execution_count": 75,
      "metadata": {},
      "outputs": [],
      "source": [
        "class BinaryEncoder:\n",
        "    def fit(self, y):\n",
        "        self.classes_ = np.unique(y)\n",
        "        self.length_ = len(bin(len(self.classes_))[2:])\n",
        "        return self\n",
        "    \n",
        "    def encode(self, x):\n",
        "        encoded = []\n",
        "        x = [np.where(self.classes_ == i)[0][0] for i in x]\n",
        "        for i in x:\n",
        "            b = bin(i)[2:].zfill(self.length_)\n",
        "            encoded.append([int(n) for n in b])\n",
        "        return encoded\n",
        "\n",
        "    def decode(self, x):\n",
        "        label = []\n",
        "        for e in x:\n",
        "            num = int(''.join(str(i) for i in e), 2)\n",
        "            label.append(self.classes_[num])\n",
        "        return label"
      ]
    },
    {
      "cell_type": "code",
      "execution_count": 76,
      "metadata": {},
      "outputs": [
        {
          "data": {
            "text/plain": [
              "<__main__.BinaryEncoder at 0x1613928e380>"
            ]
          },
          "execution_count": 76,
          "metadata": {},
          "output_type": "execute_result"
        }
      ],
      "source": [
        "encoder = BinaryEncoder()\n",
        "encoder.fit(kelas)"
      ]
    },
    {
      "cell_type": "code",
      "execution_count": 77,
      "metadata": {},
      "outputs": [
        {
          "data": {
            "text/plain": [
              "[[0, 0],\n",
              " [0, 0],\n",
              " [0, 0],\n",
              " [0, 0],\n",
              " [0, 0],\n",
              " [0, 0],\n",
              " [0, 0],\n",
              " [0, 0],\n",
              " [0, 0],\n",
              " [0, 0],\n",
              " [0, 0],\n",
              " [0, 0],\n",
              " [0, 0],\n",
              " [0, 0],\n",
              " [0, 0],\n",
              " [0, 0],\n",
              " [0, 0],\n",
              " [0, 0],\n",
              " [0, 0],\n",
              " [0, 0],\n",
              " [0, 0],\n",
              " [0, 0],\n",
              " [0, 0],\n",
              " [0, 0],\n",
              " [0, 0],\n",
              " [0, 0],\n",
              " [0, 0],\n",
              " [0, 0],\n",
              " [0, 0],\n",
              " [0, 0],\n",
              " [0, 0],\n",
              " [0, 0],\n",
              " [0, 0],\n",
              " [0, 0],\n",
              " [0, 0],\n",
              " [0, 0],\n",
              " [0, 0],\n",
              " [0, 0],\n",
              " [0, 0],\n",
              " [0, 0],\n",
              " [0, 0],\n",
              " [0, 0],\n",
              " [0, 0],\n",
              " [0, 0],\n",
              " [0, 0],\n",
              " [0, 0],\n",
              " [0, 0],\n",
              " [0, 0],\n",
              " [0, 0],\n",
              " [0, 0],\n",
              " [0, 1],\n",
              " [0, 1],\n",
              " [0, 1],\n",
              " [0, 1],\n",
              " [0, 1],\n",
              " [0, 1],\n",
              " [0, 1],\n",
              " [0, 1],\n",
              " [0, 1],\n",
              " [0, 1],\n",
              " [0, 1],\n",
              " [0, 1],\n",
              " [0, 1],\n",
              " [0, 1],\n",
              " [0, 1],\n",
              " [0, 1],\n",
              " [0, 1],\n",
              " [0, 1],\n",
              " [0, 1],\n",
              " [0, 1],\n",
              " [0, 1],\n",
              " [0, 1],\n",
              " [0, 1],\n",
              " [0, 1],\n",
              " [0, 1],\n",
              " [0, 1],\n",
              " [0, 1],\n",
              " [0, 1],\n",
              " [0, 1],\n",
              " [0, 1],\n",
              " [0, 1],\n",
              " [0, 1],\n",
              " [0, 1],\n",
              " [0, 1],\n",
              " [0, 1],\n",
              " [0, 1],\n",
              " [0, 1],\n",
              " [0, 1],\n",
              " [0, 1],\n",
              " [0, 1],\n",
              " [0, 1],\n",
              " [0, 1],\n",
              " [0, 1],\n",
              " [0, 1],\n",
              " [0, 1],\n",
              " [0, 1],\n",
              " [0, 1],\n",
              " [0, 1],\n",
              " [0, 1],\n",
              " [0, 1],\n",
              " [1, 0],\n",
              " [1, 0],\n",
              " [1, 0],\n",
              " [1, 0],\n",
              " [1, 0],\n",
              " [1, 0],\n",
              " [1, 0],\n",
              " [1, 0],\n",
              " [1, 0],\n",
              " [1, 0],\n",
              " [1, 0],\n",
              " [1, 0],\n",
              " [1, 0],\n",
              " [1, 0],\n",
              " [1, 0],\n",
              " [1, 0],\n",
              " [1, 0],\n",
              " [1, 0],\n",
              " [1, 0],\n",
              " [1, 0],\n",
              " [1, 0],\n",
              " [1, 0],\n",
              " [1, 0],\n",
              " [1, 0],\n",
              " [1, 0],\n",
              " [1, 0],\n",
              " [1, 0],\n",
              " [1, 0],\n",
              " [1, 0],\n",
              " [1, 0],\n",
              " [1, 0],\n",
              " [1, 0],\n",
              " [1, 0],\n",
              " [1, 0],\n",
              " [1, 0],\n",
              " [1, 0],\n",
              " [1, 0],\n",
              " [1, 0],\n",
              " [1, 0],\n",
              " [1, 0],\n",
              " [1, 0],\n",
              " [1, 0],\n",
              " [1, 0],\n",
              " [1, 0],\n",
              " [1, 0],\n",
              " [1, 0],\n",
              " [1, 0],\n",
              " [1, 0],\n",
              " [1, 0],\n",
              " [1, 0]]"
            ]
          },
          "execution_count": 77,
          "metadata": {},
          "output_type": "execute_result"
        }
      ],
      "source": [
        "encoded = encoder.encode(df['class'])\n",
        "encoded"
      ]
    },
    {
      "cell_type": "code",
      "execution_count": 78,
      "metadata": {},
      "outputs": [
        {
          "data": {
            "text/plain": [
              "True"
            ]
          },
          "execution_count": 78,
          "metadata": {},
          "output_type": "execute_result"
        }
      ],
      "source": [
        "decoded = encoder.decode(encoded)\n",
        "np.equal(decoded, df['class']).all()"
      ]
    },
    {
      "cell_type": "markdown",
      "metadata": {},
      "source": [
        "### 4. One-hot Encoder"
      ]
    },
    {
      "cell_type": "code",
      "execution_count": 79,
      "metadata": {},
      "outputs": [],
      "source": [
        "class OneHotEncoder:\n",
        "    def fit(self, y):\n",
        "        self.classes_ = np.unique(y)\n",
        "        self.table_ = dict(zip(self.classes_, np.eye(len(self.classes_), dtype=int)))\n",
        "        return self\n",
        "    \n",
        "    def encode(self, x):\n",
        "        return np.array([self.table_[i] for i in x])\n",
        "    \n",
        "    def decode(self, x):\n",
        "        return np.array([self.classes_[np.argmax(i)] for i in x])"
      ]
    },
    {
      "cell_type": "code",
      "execution_count": 80,
      "metadata": {},
      "outputs": [
        {
          "data": {
            "text/plain": [
              "<__main__.OneHotEncoder at 0x1613928f580>"
            ]
          },
          "execution_count": 80,
          "metadata": {},
          "output_type": "execute_result"
        }
      ],
      "source": [
        "onehot = OneHotEncoder()\n",
        "onehot.fit(kelas)"
      ]
    },
    {
      "cell_type": "code",
      "execution_count": 81,
      "metadata": {},
      "outputs": [
        {
          "data": {
            "text/plain": [
              "array([[1, 0, 0],\n",
              "       [1, 0, 0],\n",
              "       [1, 0, 0],\n",
              "       [1, 0, 0],\n",
              "       [1, 0, 0],\n",
              "       [1, 0, 0],\n",
              "       [1, 0, 0],\n",
              "       [1, 0, 0],\n",
              "       [1, 0, 0],\n",
              "       [1, 0, 0],\n",
              "       [1, 0, 0],\n",
              "       [1, 0, 0],\n",
              "       [1, 0, 0],\n",
              "       [1, 0, 0],\n",
              "       [1, 0, 0],\n",
              "       [1, 0, 0],\n",
              "       [1, 0, 0],\n",
              "       [1, 0, 0],\n",
              "       [1, 0, 0],\n",
              "       [1, 0, 0],\n",
              "       [1, 0, 0],\n",
              "       [1, 0, 0],\n",
              "       [1, 0, 0],\n",
              "       [1, 0, 0],\n",
              "       [1, 0, 0],\n",
              "       [1, 0, 0],\n",
              "       [1, 0, 0],\n",
              "       [1, 0, 0],\n",
              "       [1, 0, 0],\n",
              "       [1, 0, 0],\n",
              "       [1, 0, 0],\n",
              "       [1, 0, 0],\n",
              "       [1, 0, 0],\n",
              "       [1, 0, 0],\n",
              "       [1, 0, 0],\n",
              "       [1, 0, 0],\n",
              "       [1, 0, 0],\n",
              "       [1, 0, 0],\n",
              "       [1, 0, 0],\n",
              "       [1, 0, 0],\n",
              "       [1, 0, 0],\n",
              "       [1, 0, 0],\n",
              "       [1, 0, 0],\n",
              "       [1, 0, 0],\n",
              "       [1, 0, 0],\n",
              "       [1, 0, 0],\n",
              "       [1, 0, 0],\n",
              "       [1, 0, 0],\n",
              "       [1, 0, 0],\n",
              "       [1, 0, 0],\n",
              "       [0, 1, 0],\n",
              "       [0, 1, 0],\n",
              "       [0, 1, 0],\n",
              "       [0, 1, 0],\n",
              "       [0, 1, 0],\n",
              "       [0, 1, 0],\n",
              "       [0, 1, 0],\n",
              "       [0, 1, 0],\n",
              "       [0, 1, 0],\n",
              "       [0, 1, 0],\n",
              "       [0, 1, 0],\n",
              "       [0, 1, 0],\n",
              "       [0, 1, 0],\n",
              "       [0, 1, 0],\n",
              "       [0, 1, 0],\n",
              "       [0, 1, 0],\n",
              "       [0, 1, 0],\n",
              "       [0, 1, 0],\n",
              "       [0, 1, 0],\n",
              "       [0, 1, 0],\n",
              "       [0, 1, 0],\n",
              "       [0, 1, 0],\n",
              "       [0, 1, 0],\n",
              "       [0, 1, 0],\n",
              "       [0, 1, 0],\n",
              "       [0, 1, 0],\n",
              "       [0, 1, 0],\n",
              "       [0, 1, 0],\n",
              "       [0, 1, 0],\n",
              "       [0, 1, 0],\n",
              "       [0, 1, 0],\n",
              "       [0, 1, 0],\n",
              "       [0, 1, 0],\n",
              "       [0, 1, 0],\n",
              "       [0, 1, 0],\n",
              "       [0, 1, 0],\n",
              "       [0, 1, 0],\n",
              "       [0, 1, 0],\n",
              "       [0, 1, 0],\n",
              "       [0, 1, 0],\n",
              "       [0, 1, 0],\n",
              "       [0, 1, 0],\n",
              "       [0, 1, 0],\n",
              "       [0, 1, 0],\n",
              "       [0, 1, 0],\n",
              "       [0, 1, 0],\n",
              "       [0, 1, 0],\n",
              "       [0, 1, 0],\n",
              "       [0, 1, 0],\n",
              "       [0, 1, 0],\n",
              "       [0, 0, 1],\n",
              "       [0, 0, 1],\n",
              "       [0, 0, 1],\n",
              "       [0, 0, 1],\n",
              "       [0, 0, 1],\n",
              "       [0, 0, 1],\n",
              "       [0, 0, 1],\n",
              "       [0, 0, 1],\n",
              "       [0, 0, 1],\n",
              "       [0, 0, 1],\n",
              "       [0, 0, 1],\n",
              "       [0, 0, 1],\n",
              "       [0, 0, 1],\n",
              "       [0, 0, 1],\n",
              "       [0, 0, 1],\n",
              "       [0, 0, 1],\n",
              "       [0, 0, 1],\n",
              "       [0, 0, 1],\n",
              "       [0, 0, 1],\n",
              "       [0, 0, 1],\n",
              "       [0, 0, 1],\n",
              "       [0, 0, 1],\n",
              "       [0, 0, 1],\n",
              "       [0, 0, 1],\n",
              "       [0, 0, 1],\n",
              "       [0, 0, 1],\n",
              "       [0, 0, 1],\n",
              "       [0, 0, 1],\n",
              "       [0, 0, 1],\n",
              "       [0, 0, 1],\n",
              "       [0, 0, 1],\n",
              "       [0, 0, 1],\n",
              "       [0, 0, 1],\n",
              "       [0, 0, 1],\n",
              "       [0, 0, 1],\n",
              "       [0, 0, 1],\n",
              "       [0, 0, 1],\n",
              "       [0, 0, 1],\n",
              "       [0, 0, 1],\n",
              "       [0, 0, 1],\n",
              "       [0, 0, 1],\n",
              "       [0, 0, 1],\n",
              "       [0, 0, 1],\n",
              "       [0, 0, 1],\n",
              "       [0, 0, 1],\n",
              "       [0, 0, 1],\n",
              "       [0, 0, 1],\n",
              "       [0, 0, 1],\n",
              "       [0, 0, 1],\n",
              "       [0, 0, 1]])"
            ]
          },
          "execution_count": 81,
          "metadata": {},
          "output_type": "execute_result"
        }
      ],
      "source": [
        "oh_encoded = onehot.encode(df['class'])\n",
        "oh_encoded"
      ]
    },
    {
      "cell_type": "code",
      "execution_count": 82,
      "metadata": {},
      "outputs": [
        {
          "data": {
            "text/plain": [
              "True"
            ]
          },
          "execution_count": 82,
          "metadata": {},
          "output_type": "execute_result"
        }
      ],
      "source": [
        "oh_decoded = onehot.decode(oh_encoded)\n",
        "np.equal(oh_decoded, df['class']).all()"
      ]
    }
  ],
  "metadata": {
    "colab": {
      "collapsed_sections": [],
      "provenance": []
    },
    "kernelspec": {
      "display_name": "Python 3.10.8 64-bit",
      "language": "python",
      "name": "python3"
    },
    "language_info": {
      "codemirror_mode": {
        "name": "ipython",
        "version": 3
      },
      "file_extension": ".py",
      "mimetype": "text/x-python",
      "name": "python",
      "nbconvert_exporter": "python",
      "pygments_lexer": "ipython3",
      "version": "3.10.8"
    },
    "vscode": {
      "interpreter": {
        "hash": "8d5166f33f56ec438629356f5bc5b1e360ee96611e25bcc09105a0dd056e67ef"
      }
    }
  },
  "nbformat": 4,
  "nbformat_minor": 0
}
